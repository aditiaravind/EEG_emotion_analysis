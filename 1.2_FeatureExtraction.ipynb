{
 "cells": [
  {
   "cell_type": "markdown",
   "metadata": {},
   "source": [
    "# Machine Learning for EEG Dataset : DEAP\n",
    "\n",
    "http://www.eecs.qmul.ac.uk/mmv/datasets/deap/\n",
    "\n",
    "<h1> Extracting Feature Vector as follows and saving to file </h1>\n",
    "\n",
    "<b> Features  - {SE1, SE2, O, Stat1,...., Stat8, PSD, LogPSD, Hemi, HdSE1, HdSE2, HdO, HFD}</b>\n",
    "\n",
    "- SE1 - Shannon Entropy 1 - Traditional method\n",
    "- SE2 - Shannon Entropy 2 - Spectral Entropy for Time series\n",
    "- O - Oscillation Feature\n",
    "- Stat1-8 : 8 Statistical Features\n",
    "    - Mean\n",
    "    - Standard Deviation\n",
    "    - Skewness\n",
    "    - Kurtosis\n",
    "    - Mean of First Difference of Raw Signal\n",
    "    - Mean of First Difference of Normalized Signal\n",
    "    - Mean of Second Difference of Raw Signal\n",
    "    - Mean of Second Difference of Normalized Signal\n",
    "- PSD - Absolute power of the Power Spectral Density Spectrum\n",
    "- LogPSD - Logarithm of Absolute power of the Power Spectral Density Spectrum\n",
    "- Hemi - Hemispheric mean difference of raw signals \n",
    "- HdSE1, HdSE2, HdO - Hemispheric difference between the Shannon entropy and oscillation features\n",
    "- HFD - Higuchi Fractal Dimension Feature\n",
    "\n",
    "nFeatures = 18 for each frequency band <br>\n",
    "nFeatures for each trial = 32 (electrode channels) x 5(Freq bands) x 18 features\n",
    "                         <br> <b>=  2880 features per trial per patient\n",
    " "
   ]
  },
  {
   "cell_type": "markdown",
   "metadata": {},
   "source": [
    "_______________"
   ]
  },
  {
   "cell_type": "markdown",
   "metadata": {},
   "source": [
    "## 1. Imports"
   ]
  },
  {
   "cell_type": "code",
   "execution_count": 1,
   "metadata": {},
   "outputs": [],
   "source": [
    "import pickle\n",
    "import numpy as np\n",
    "import matplotlib.pyplot as plt\n",
    "from scipy.io import loadmat\n",
    "from scipy.signal import butter,filtfilt, welch\n",
    "import scipy.signal as sg\n",
    "from scipy.fftpack import fft, ifft\n",
    "import scipy.stats as sts\n",
    "from scipy.integrate import simps\n",
    "import glob\n",
    "import os\n",
    "import ctypes\n",
    "import numpy as np\n",
    "from numpy.ctypeslib import ndpointer"
   ]
  },
  {
   "cell_type": "markdown",
   "metadata": {},
   "source": [
    "________________"
   ]
  },
  {
   "cell_type": "markdown",
   "metadata": {},
   "source": [
    "## 2. Pre-processing Functions"
   ]
  },
  {
   "cell_type": "markdown",
   "metadata": {},
   "source": [
    "#### 2.1 Function to Initialize the Global Variables across all files"
   ]
  },
  {
   "cell_type": "code",
   "execution_count": 2,
   "metadata": {},
   "outputs": [],
   "source": [
    "#Initialize global variables like time, channel names and indices and cut-off frequencies for filters\n",
    "def global_run():\n",
    "    time = np.linspace(0,8063/128,8064)\n",
    "    channel_names = [\"Fp1\", \"AF3\", \"F3\", \"F7\", \"FC5\", \"FC1\", \"C3\", \"T7\",\"CP5\", \"CP1\", \"P3\", \"P7\", \"PO3\", \"O1\", \"Oz\", \"Pz\", \n",
    "                \"Fp2\", \"AF4\", \"Fz\", \"F4\", \"F8\", \"FC6\", \"FC2\", \"Cz\", \"C4\", \"T8\", \"CP6\", \"CP2\", \"P4\", \"P8\", \"PO4\", \"O2\"]\n",
    "    channel_labels = dict(list(enumerate(channel_names)))\n",
    "    cutoffs = np.array([[0.5, 4], [4, 7.5], [7.5, 12], [12, 30], [30, 75]])\n",
    "    ind_dict = hemi_run(channel_labels)\n",
    "    return time, channel_labels, cutoffs, ind_dict\n"
   ]
  },
  {
   "cell_type": "code",
   "execution_count": 3,
   "metadata": {},
   "outputs": [],
   "source": [
    "#Function to form a relation between the indexes of left and right electrodes.\n",
    "def hemi_run(channel_labels):\n",
    "    \n",
    "    hemi = {\n",
    "        \"Fp1\":\"Fp2\", \"AF3\":\"AF4\", \"F3\":\"F4\", \"F7\":\"F8\", \"FC5\":\"FC6\", \"FC1\":\"FC2\", \"C3\":\"C4\", \"T7\":\"T8\",\n",
    "        \"CP5\":\"CP6\", \"CP1\":\"CP2\", \"P3\":\"P4\", \"P7\":\"P8\", \"PO3\":\"PO4\",\"O1\":\"O2\",\"Fp2\":\"Fp1\", \"AF4\":\"AF3\", \n",
    "        \"F4\":\"F3\", \"F8\":\"F7\", \"FC6\":\"FC5\", \"FC2\":\"FC1\", \"C4\":\"C3\", \"T8\":\"T7\",\"CP6\":\"CP5\", \"CP2\":\"CP1\", \n",
    "        \"P4\":\"P3\", \"P8\":\"P7\", \"PO4\":\"PO3\",\"O2\":\"O1\"}\n",
    "    \n",
    "    channel_ind = {v: k for k, v in channel_labels.items()}\n",
    "    \n",
    "    ind_dict = {}\n",
    "    for i in range(32):\n",
    "        lab = channel_labels[i]\n",
    "        opp = [hemi[lab] if lab in hemi.keys() else False][0]\n",
    "        if not opp:\n",
    "            ind_dict[i]=np.nan\n",
    "        else:\n",
    "            ind = channel_ind[opp]\n",
    "            ind_dict[i] = ind\n",
    "\n",
    "    return ind_dict"
   ]
  },
  {
   "cell_type": "markdown",
   "metadata": {},
   "source": [
    "#### 2.2 Load Data"
   ]
  },
  {
   "cell_type": "code",
   "execution_count": 4,
   "metadata": {},
   "outputs": [],
   "source": [
    "#Load data from file path\n",
    "def load_data(file):\n",
    "    with open(file, 'rb') as f:\n",
    "        loaded = pickle.load(f, encoding=\"bytes\")  #the specification of encoding is to supress errors in loading the file.\n",
    "    x = loaded[b'data']\n",
    "    data = x[:,:32, :] #Choosing only the 32 EEG Channels\n",
    "    if data.shape != (40,32,8064):\n",
    "        print('Error. Shape mismatch')\n",
    "        return None\n",
    "    labels = loaded[b'labels']\n",
    "    return data, labels"
   ]
  },
  {
   "cell_type": "markdown",
   "metadata": {},
   "source": [
    "#### 2.3 Tranforming the Labels based on 1D-2CLS Labelling Scheme"
   ]
  },
  {
   "cell_type": "code",
   "execution_count": 5,
   "metadata": {},
   "outputs": [],
   "source": [
    "#Convert the Labelling Scheme into 1D-2CLS scheme and remove Liking Label\n",
    "def label_scheme(labels):\n",
    "    return ((labels>5)*1)[:,:3]"
   ]
  },
  {
   "cell_type": "markdown",
   "metadata": {},
   "source": [
    "#### 2.4 FIR Filter functions"
   ]
  },
  {
   "cell_type": "code",
   "execution_count": 6,
   "metadata": {},
   "outputs": [],
   "source": [
    "#FIR filter to split the signal into the frequency bands\n",
    "def FIR_filter(data, tim, fs = 128, n = 51):\n",
    "\n",
    "    #Filter the data based on the different cut-off frequencies for each MEG band\n",
    "    cutoffs = np.array([[0.5, 4], [4, 7.5], [7.5, 12], [12, 30], [30, 75]]) #Cutoff frequencies for the bands - delta, theta, alpha, beta gamma respectively\n",
    "    if fs/2<75: #cutoff frequency cannot exceed fs/2\n",
    "        cutoffs[4,1] = 128/2 - 1\n",
    "    \n",
    "    splits = []\n",
    "    for i in range(5):\n",
    "        #Desigining the FIR filter with the specific cut-off frequency and window to get the filter co-efficients\n",
    "        hfilt = sg.firwin(n, cutoff = cutoffs[i]/fs, window = 'blackmanharris', pass_zero = False)\n",
    "        #Convolve the signal with filter to get filered signal\n",
    "        yfilt = sg.convolve(data,hfilt, mode=\"same\")\n",
    "        splits.append(yfilt)\n",
    "    \n",
    "    return np.array(splits) #Delta Theta Alpha Beta Gamma"
   ]
  },
  {
   "cell_type": "code",
   "execution_count": 7,
   "metadata": {},
   "outputs": [],
   "source": [
    "def get_filtered_data(data, tim, fs=128, n=51):\n",
    "    filtered = np.apply_along_axis(FIR_filter, 2, data, time, n=n)\n",
    "    if filtered.shape != (40, 32, 5, 8064):\n",
    "        print(\"Error: Shape Mismatch\")\n",
    "        return None\n",
    "    return filtered\n",
    "    "
   ]
  },
  {
   "cell_type": "markdown",
   "metadata": {},
   "source": [
    "________"
   ]
  },
  {
   "cell_type": "markdown",
   "metadata": {},
   "source": [
    "## 3.Feature Functions"
   ]
  },
  {
   "cell_type": "markdown",
   "metadata": {},
   "source": [
    "#### 3.1 Shannon Entropy"
   ]
  },
  {
   "cell_type": "code",
   "execution_count": 8,
   "metadata": {},
   "outputs": [],
   "source": [
    "#Traditional Shannon Entropy\n",
    "def shannon_entropy(x):\n",
    "    weights = np.ones_like(x) / len(x)\n",
    "    px = np.histogram(x, weights=weights)[0]\n",
    "    px = px[px!=0]\n",
    "    return -sum(px*np.log(px))"
   ]
  },
  {
   "cell_type": "code",
   "execution_count": 9,
   "metadata": {},
   "outputs": [],
   "source": [
    "#Shannon entropy based on Spectral Features\n",
    "def spectral_entropy(x, fs, nperseg=None, normalize=False):\n",
    "    x = np.array(x)\n",
    "    # Compute and normalize power spectrum\n",
    "    _, psd = welch(x, fs, nperseg=nperseg)\n",
    "    psd_norm = np.divide(psd, psd.sum())\n",
    "    se = -np.multiply(psd_norm, np.log2(psd_norm)).sum()\n",
    "    if normalize:\n",
    "        se /= np.log2(psd_norm.size)\n",
    "    return se"
   ]
  },
  {
   "cell_type": "markdown",
   "metadata": {},
   "source": [
    "#### 3.2 PSD"
   ]
  },
  {
   "cell_type": "code",
   "execution_count": 10,
   "metadata": {},
   "outputs": [],
   "source": [
    "#Absolute power and Logarithmic Power of PSD of the Signal with specified Frequency Band\n",
    "def PSD_power(data, fs, freq, nparseg=1024):\n",
    "    f, Pxx = welch(data, fs, nperseg=nparseg)\n",
    "    freq_res = f[1] - f[0]\n",
    "    idx = np.logical_and(f >= freq[0], f <= freq[1])\n",
    "    power = simps(Pxx[idx], dx=freq_res)\n",
    "    return power, np.log(power)"
   ]
  },
  {
   "cell_type": "code",
   "execution_count": 11,
   "metadata": {},
   "outputs": [],
   "source": [
    "def get_PSDFeats(sigs, cutoffs, fs=128):\n",
    "    if len(sigs)!=len(cutoffs):\n",
    "        print(\"Error: Wrong input,Length mismatch\")\n",
    "        return None\n",
    "    PSD = []\n",
    "    for i in range(len(sigs)):\n",
    "        PSD.append(PSD_power(sigs[i], fs, cutoffs[i]))\n",
    "    PSD = np.array(PSD)\n",
    "    if PSD.shape!=(5,2):\n",
    "        print(\"Error: Shape mismatch\")\n",
    "        return None\n",
    "    return PSD"
   ]
  },
  {
   "cell_type": "markdown",
   "metadata": {},
   "source": [
    "#### 3.3 Oscillation"
   ]
  },
  {
   "cell_type": "code",
   "execution_count": 12,
   "metadata": {},
   "outputs": [],
   "source": [
    "#Oscillation Feature\n",
    "def oscillation_signal(x):\n",
    "    N = len(x)\n",
    "    O = N/(len(sg.find_peaks(x)[0]) + len(sg.find_peaks(-x)[0]))\n",
    "    return O"
   ]
  },
  {
   "cell_type": "markdown",
   "metadata": {},
   "source": [
    "#### 3.4 Statistical Features"
   ]
  },
  {
   "cell_type": "code",
   "execution_count": 13,
   "metadata": {},
   "outputs": [],
   "source": [
    "#Normalising function of a single signal\n",
    "def norm(x):\n",
    "    x = (x-min(x))/(max(x)-min(x))\n",
    "    return x"
   ]
  },
  {
   "cell_type": "code",
   "execution_count": 14,
   "metadata": {},
   "outputs": [],
   "source": [
    "#Calculating 8 Statistical Features of Signal Input\n",
    "def stats(x, s=0,h=0):\n",
    "    mean = np.mean(x)\n",
    "    std = np.std(x)\n",
    "    skew = sts.skew(x)\n",
    "    kurt = sts.kurtosis(x)\n",
    "    norm_x = norm(x)\n",
    "    #np.diff calculates the first difference of input array\n",
    "    fd_raw = np.mean(abs(np.diff(x))) \n",
    "    fd_norm = np.mean(abs(np.diff(norm_x)))\n",
    "    sd_raw = np.mean(abs(np.diff(np.diff(x))))\n",
    "    sd_norm = np.mean(abs(np.diff(np.diff(norm_x))))\n",
    "    return np.array([mean, std, skew, kurt, fd_raw, fd_norm, sd_raw, sd_norm])\n",
    "    "
   ]
  },
  {
   "cell_type": "markdown",
   "metadata": {},
   "source": [
    "#### 3.5 HFD"
   ]
  },
  {
   "cell_type": "markdown",
   "metadata": {},
   "source": [
    "<b><u> Note:</b>\n",
    "- I transferred the HFD function from the python file to the notebook itself.\n",
    "- You can still use the one from the file as well, I just thought this might speed up the process"
   ]
  },
  {
   "cell_type": "code",
   "execution_count": 15,
   "metadata": {},
   "outputs": [],
   "source": [
    "#Functions for Calculating Higuchi Fractal Dimension (HFD)\n",
    "def hfd(X,**kwargs):\n",
    "    k, L = curve_length(X,**kwargs)\n",
    "    return lin_fit_hfd(k, L);\n",
    "\n",
    "def curve_length(X,opt=False,num_k=50):\n",
    "    ### Make sure X is a NumPy array with the correct dimension\n",
    "    X = np.array(X)\n",
    "    if X.ndim != 1:\n",
    "        raise ValueError(\"Input array must be 1D (time series).\")\n",
    "    N = X.size\n",
    "\n",
    "    ### Get interval \"time\"\n",
    "    k_arr = interval_t(N,num_val=num_k)\n",
    "\n",
    "    ### The average length\n",
    "    Lk = np.empty(k_arr.size,dtype=np.float)\n",
    "\n",
    "    for i in range(k_arr.size):# over array of k's\n",
    "        Lmk = 0.0\n",
    "        for j in range(k_arr[i]):# over m's\n",
    "            ## Construct X_k^m, i.e. X_(k_arr[i])^j, as X[j::k_arr[i]]\n",
    "            ## Calculate L_m(k)\n",
    "            Lmk += (np.sum(np.abs(np.diff( X[j::k_arr[i]] ))) * (N - 1) /(( (N-j-1)//k_arr[i] )*k_arr[i])) / k_arr[i]\n",
    "\n",
    "        ### Calculate the average Lmk\n",
    "        Lk[i] = Lmk / k_arr[i]\n",
    "\n",
    "    return (k_arr, Lk);\n",
    "\n",
    "def lin_fit_hfd(k,L,log=True):\n",
    "    return (-np.polyfit(np.log2(k),np.log2(L),deg=1)[0]);\n",
    "    \n",
    "def interval_t(size,num_val=50):\n",
    "    ### Generate sequence of interval times, k\n",
    "    k_stop = size//2\n",
    "    if k_stop > size//2:## prohibit going larger than N/2\n",
    "        k_stop = size//2\n",
    "        print(\"Warning: k cannot be longer than N/2\")\n",
    "        \n",
    "    k = np.logspace(start=np.log2(2),stop=np.log2(k_stop),base=2,num=num_val,dtype=np.int)\n",
    "    return np.unique(k);\n"
   ]
  },
  {
   "cell_type": "markdown",
   "metadata": {},
   "source": [
    "Note: \n",
    "- PSD features and hemispheric features are calculated together (in the following section), as they require the same iter values during calculation"
   ]
  },
  {
   "cell_type": "markdown",
   "metadata": {},
   "source": [
    "_____"
   ]
  },
  {
   "cell_type": "markdown",
   "metadata": {},
   "source": [
    "## 4. Feature Extraction functions"
   ]
  },
  {
   "cell_type": "markdown",
   "metadata": {},
   "source": [
    "#### 4.1 Calculating the first 11 features separately - feature_vector()"
   ]
  },
  {
   "cell_type": "code",
   "execution_count": 16,
   "metadata": {},
   "outputs": [],
   "source": [
    "def feature_vector(x, fs=128):\n",
    "    '''\n",
    "    Returns a Feature Vector in the following order:\n",
    "    [SE1, SE2, O, Stat1...Stat8, PSD, LogPSD]\n",
    "    \n",
    "    SE1: Shannon Entropy (Traditional)\n",
    "    SE2: Spectral Entropy \n",
    "    O: Oscillation Feature\n",
    "    StatsX: 8 statistical features (refer stats function)\n",
    "    \n",
    "    '''\n",
    "    feat_vec = []\n",
    "    \n",
    "    feat_vec.append(shannon_entropy(x))\n",
    "    feat_vec.append(spectral_entropy(x,fs))\n",
    "    feat_vec.append(oscillation_signal(x))\n",
    "    feat_vec += list(stats(x))\n",
    "    if len(feat_vec)!=11:\n",
    "        print(\"Error: Shape Mismatch\")\n",
    "        return None\n",
    "    return np.array(feat_vec)\n",
    "    "
   ]
  },
  {
   "cell_type": "markdown",
   "metadata": {},
   "source": [
    "#### 4.2 Calculating the hemispheric and PSD features - hemi_diffs()"
   ]
  },
  {
   "cell_type": "code",
   "execution_count": 17,
   "metadata": {},
   "outputs": [],
   "source": [
    "#Calculating differences in hemispheric features \n",
    "def hemi_diffs(sig, feat, cutoffs, ind_dict):\n",
    "    features = feat.copy()\n",
    "    channel_feats = []\n",
    "    for ch in range(len(sig)):\n",
    "        opp = ind_dict[ch]\n",
    "        if np.isnan(opp):\n",
    "            #Check for nan values - centre electrodes\n",
    "            #If centre ('z') electrode-  append nan values as features\n",
    "            fleft = features[ch]\n",
    "            feat_diff = np.concatenate((fleft, np.zeros((5,6))*np.nan), axis=1)\n",
    "        else:\n",
    "            #For left/right electrodes\n",
    "            #Extract the corresponding signal and features from the opposite side\n",
    "            left = sig[ch] #Shape: (5,8064)\n",
    "            right = sig[opp] #Shape: (5,8064)\n",
    "            mdiff = np.mean(left-right, axis=1) #Shape: (5,)\n",
    "            \n",
    "            #Use the iter value to calculate the PSD features as well\n",
    "            PSD = get_PSDFeats(left, cutoffs) #Shape: (5,2)\n",
    "            \n",
    "            #Get the calculated features - Oscillation and Shannon Entropy to find difference between left/right hemispeheres\n",
    "            fleft = features[ch] #Shape: (5,11)\n",
    "            fright = features[opp] #Shape: (5,11)\n",
    "            f_diff = fleft[:,[0,1,2]] - fright[:,[0,1,2]] #Shape: (5,3)\n",
    "            \n",
    "            #Concatenate all the feature values to get the feature vector of shape (5,17)\n",
    "            feat_diff = np.concatenate((fleft,PSD, mdiff.reshape(5,1),f_diff), axis=1)\n",
    "        \n",
    "        #Sanity check\n",
    "        if feat_diff.shape != (5,17):\n",
    "            print(\"Error:Shape mismatch\")\n",
    "            return None\n",
    "        channel_feats.append(feat_diff)\n",
    "    return np.array(channel_feats)        "
   ]
  },
  {
   "cell_type": "markdown",
   "metadata": {},
   "source": [
    "#### 4.3 Concatenate all calculated features across the electrodes - get_features()"
   ]
  },
  {
   "cell_type": "code",
   "execution_count": 18,
   "metadata": {},
   "outputs": [],
   "source": [
    "#This function is a global version of the previous hemi_diffs() function\n",
    "#This calculates the feature vector for each trial \n",
    "#This function is used for each .dat file\n",
    "\n",
    "def get_features(filtered, cutoffs, ind_dict):\n",
    "    features = []\n",
    "    #Calculate the first 12 features using numpy's vectorization to apply it along the entire dataset\n",
    "    first_feats = np.apply_along_axis(feature_vector, 3, filtered)\n",
    "    \n",
    "    #Then iterate over the trials to calculate the electrode features for each trial\n",
    "    for i in range(len(filtered)):\n",
    "        feats = hemi_diffs(filtered[i], first_feats[i], cutoffs, ind_dict)\n",
    "        \n",
    "        #Sanity Check\n",
    "        if feats.shape != (32,5,17):\n",
    "            print(\"Error:Shape mismatch\")\n",
    "            return None\n",
    "        \n",
    "        features.append(feats)\n",
    "    #Final feature array\n",
    "    return np.array(features)"
   ]
  },
  {
   "cell_type": "markdown",
   "metadata": {},
   "source": [
    "_____"
   ]
  },
  {
   "cell_type": "markdown",
   "metadata": {},
   "source": [
    "## 5. Final function to Get all Features and Save the features to files"
   ]
  },
  {
   "cell_type": "markdown",
   "metadata": {},
   "source": [
    "- Combined function that includes all previous function to be executed in a single line\n",
    "- Iterates through all the files in the specified directory (\"path\"), extracts all the features \n",
    "- and saves it to a pickle file of the same name"
   ]
  },
  {
   "cell_type": "code",
   "execution_count": 19,
   "metadata": {},
   "outputs": [],
   "source": [
    "#Combined function that includes all previous function to be executed in a single line\n",
    "#Iterates through all the files in the specified directory (\"path\"), extracts all the features \n",
    "# and saves it to a pickle file of the same name\n",
    "def all_features(path):\n",
    "    '''\n",
    "    Input path must be the directory that holds all the .dat files of the dataset.\n",
    "    \n",
    "    Output files are saved in this same directory\n",
    "    '''\n",
    "    #Iter over each file in the directory using glob\n",
    "    for filename in glob.glob(path+'\\s[0-9]**.dat'):\n",
    "        #load the data\n",
    "        data, labels = load_data(filename)\n",
    "        \n",
    "        #Pre-processing - filter the data\n",
    "        filtered = get_filtered_data(data, time)\n",
    "        \n",
    "        #Extract the features of the filtered data\n",
    "        features = get_features(filtered, cutoffs, ind_dict)\n",
    "        \n",
    "        #Santiy Check\n",
    "        if features.shape != (40,32,5,17):\n",
    "            print(\"Error:Shape mismatch\")\n",
    "            print(filename[:-7])\n",
    "            break\n",
    "        \n",
    "        #Create output dictionary to be saved\n",
    "        feat_dict = {'features':features,\n",
    "                    'labels':label_scheme(labels)} #Convert the labels into the 1D-2CLS labelling scheme\n",
    "        \n",
    "        #Print to keep track of progress\n",
    "        print(\"File \" + filename[-6:-4] + \" : done\")\n",
    "        \n",
    "        #Save file with same name but .pickle extension\n",
    "        #Files are saved in the same directory as the input files\n",
    "        with open(filename[:-4]+'.pickle', 'wb') as handle:\n",
    "            pickle.dump(feat_dict, handle, protocol=pickle.HIGHEST_PROTOCOL)"
   ]
  },
  {
   "cell_type": "markdown",
   "metadata": {},
   "source": [
    "________"
   ]
  },
  {
   "cell_type": "markdown",
   "metadata": {},
   "source": [
    "## 6. Execution: Main Code"
   ]
  },
  {
   "cell_type": "code",
   "execution_count": 2,
   "metadata": {},
   "outputs": [],
   "source": [
    "#Change this path to include the directory (folder) that holds all the .dat files \n",
    "data_path =  r\"C:\\Users\\Documents\\Machine Learning\\Upwork Project\\data_preprocessed_python\\data_preprocessed_python\""
   ]
  },
  {
   "cell_type": "code",
   "execution_count": 6,
   "metadata": {},
   "outputs": [],
   "source": [
    "#Initialization of global variables\n",
    "time, channel_labels, cutoffs, ind_dict = global_run()"
   ]
  },
  {
   "cell_type": "code",
   "execution_count": null,
   "metadata": {},
   "outputs": [],
   "source": [
    "load_data()"
   ]
  },
  {
   "cell_type": "code",
   "execution_count": null,
   "metadata": {},
   "outputs": [],
   "source": [
    "#Run this to extract all features and save the extracted features into pickled files\n",
    "all_features(data_path)"
   ]
  },
  {
   "cell_type": "markdown",
   "metadata": {},
   "source": [
    "#### Check if the data is saved correctly"
   ]
  },
  {
   "cell_type": "code",
   "execution_count": 10,
   "metadata": {},
   "outputs": [],
   "source": [
    "data_path = r\"C:\\Users\\Documents\\Machine Learning\\Upwork Project\\data_preprocessed_python\\data_preprocessed_python\\Final_features\\feats07.pickle\""
   ]
  },
  {
   "cell_type": "code",
   "execution_count": 11,
   "metadata": {},
   "outputs": [],
   "source": [
    "#Chosing a random file\n",
    "with open(data_path, 'rb') as handle:\n",
    "    pickled = pickle.load(handle)\n",
    "    \n",
    "#loaded = pickle.load(open('s01.dat', 'rb'), encoding=\"bytes\")"
   ]
  },
  {
   "cell_type": "code",
   "execution_count": 12,
   "metadata": {},
   "outputs": [
    {
     "data": {
      "text/plain": [
       "dict_keys(['features', 'labels'])"
      ]
     },
     "execution_count": 12,
     "metadata": {},
     "output_type": "execute_result"
    }
   ],
   "source": [
    "pickled.keys()"
   ]
  },
  {
   "cell_type": "code",
   "execution_count": 13,
   "metadata": {},
   "outputs": [
    {
     "data": {
      "text/plain": [
       "(40, 32, 5, 18)"
      ]
     },
     "execution_count": 13,
     "metadata": {},
     "output_type": "execute_result"
    }
   ],
   "source": [
    "pickled['features'].shape"
   ]
  },
  {
   "cell_type": "code",
   "execution_count": 14,
   "metadata": {},
   "outputs": [
    {
     "data": {
      "text/plain": [
       "(40, 3)"
      ]
     },
     "execution_count": 14,
     "metadata": {},
     "output_type": "execute_result"
    }
   ],
   "source": [
    "pickled['labels'].shape"
   ]
  },
  {
   "cell_type": "code",
   "execution_count": 15,
   "metadata": {},
   "outputs": [],
   "source": [
    "Features = pickled['features']"
   ]
  },
  {
   "cell_type": "markdown",
   "metadata": {},
   "source": [
    "__________"
   ]
  },
  {
   "cell_type": "code",
   "execution_count": 16,
   "metadata": {},
   "outputs": [
    {
     "data": {
      "text/plain": [
       "(40, 32, 5, 18)"
      ]
     },
     "execution_count": 16,
     "metadata": {},
     "output_type": "execute_result"
    }
   ],
   "source": [
    "Features.shape"
   ]
  },
  {
   "cell_type": "code",
   "execution_count": 17,
   "metadata": {},
   "outputs": [
    {
     "data": {
      "text/plain": [
       "array([[[[ 1.15360416e+00,  2.44024820e+00,  1.27393365e+01, ...,\n",
       "          -1.17594423e-02, -1.83740430e-01,  1.94387958e+00],\n",
       "         [ 1.07276590e+00,  2.91658903e+00,  1.08532974e+01, ...,\n",
       "           7.76333035e-02, -3.77900329e-01,  1.95519661e+00],\n",
       "         [ 1.06389469e+00,  3.42353344e+00,  9.16363636e+00, ...,\n",
       "           1.12400423e-01, -2.13107822e-01,  1.97049993e+00],\n",
       "         [ 1.23734342e+00,  4.17840877e+00,  6.01791045e+00, ...,\n",
       "          -8.69754946e-02,  5.34134063e-02,  1.99397285e+00],\n",
       "         [ 1.49619776e+00,  5.25959171e+00,  2.56733524e+00, ...,\n",
       "           2.14236670e-03, -1.14943055e-02,  2.00568438e+00]],\n",
       "\n",
       "        [[ 1.37966411e+00,  2.62996766e+00,  1.26197183e+01, ...,\n",
       "           9.92223386e-02,  1.97183099e-02,  1.96090281e+00],\n",
       "         [ 1.38825071e+00,  3.18018521e+00,  1.08532974e+01, ...,\n",
       "           1.88876815e-01, -1.63096000e-01,  1.97019683e+00],\n",
       "         [ 1.36344071e+00,  3.52016728e+00,  8.86153846e+00, ...,\n",
       "           6.82510364e-02, -3.43940991e-01,  1.97927739e+00],\n",
       "         [ 1.64865512e+00,  4.14169806e+00,  5.87755102e+00, ...,\n",
       "          -5.47402206e-02, -6.49692449e-02,  1.99673579e+00],\n",
       "         [ 1.59987115e+00,  5.19164605e+00,  2.68442077e+00, ...,\n",
       "          -2.88921402e-02,  4.65404975e-02,  2.00497655e+00]],\n",
       "\n",
       "        [[ 1.47747802e+00,  2.47271904e+00,  1.28407643e+01, ...,\n",
       "          -8.76970031e-02,  7.14448542e-01,  1.95152358e+00],\n",
       "         [ 1.37910614e+00,  2.94690181e+00,  1.12625698e+01, ...,\n",
       "          -1.27249107e-01,  4.38408759e-01,  1.96124971e+00],\n",
       "         [ 1.31435331e+00,  3.44627343e+00,  9.22654462e+00, ...,\n",
       "          -4.76605428e-02,  1.76039572e-01,  1.97436139e+00],\n",
       "         [ 1.59522307e+00,  4.28287681e+00,  5.71914894e+00, ...,\n",
       "          -1.11277029e-02,  2.42336819e-02,  1.99904309e+00],\n",
       "         [ 1.76695062e+00,  5.21811961e+00,  2.57471264e+00, ...,\n",
       "           6.22619909e-02, -3.07800865e-02,  2.00387519e+00]],\n",
       "\n",
       "        ...,\n",
       "\n",
       "        [[ 1.32899501e+00,  2.43449508e+00,  1.29024000e+01, ...,\n",
       "          -1.72714939e-01,  2.23154717e-01,  1.95196582e+00],\n",
       "         [ 1.25939657e+00,  2.83320587e+00,  1.15530086e+01, ...,\n",
       "          -2.41437246e-01,  8.01008596e-01,  1.96063249e+00],\n",
       "         [ 1.24302025e+00,  3.36080753e+00,  9.42056075e+00, ...,\n",
       "          -1.49166858e-01,  3.39479667e-01,  1.97316128e+00],\n",
       "         [ 1.62097509e+00,  4.28624884e+00,  5.80979827e+00, ...,\n",
       "           7.27797419e-02, -1.54698771e-01,  1.99745333e+00],\n",
       "         [ 1.59829576e+00,  5.24368707e+00,  2.57965451e+00, ...,\n",
       "          -1.89158837e-02, -6.16818799e-02,  2.00453048e+00]],\n",
       "\n",
       "        [[ 1.20756966e+00,  2.40385835e+00,  1.27797147e+01, ...,\n",
       "           3.42306008e-02, -8.15292806e-02,  1.94354820e+00],\n",
       "         [ 1.14146993e+00,  2.79941960e+00,  1.12000000e+01, ...,\n",
       "           1.76297370e-02, -1.55771905e-02,  1.95363018e+00],\n",
       "         [ 1.07030425e+00,  3.30093457e+00,  9.44262295e+00, ...,\n",
       "           1.01829238e-02,  5.49628810e-02,  1.96804850e+00],\n",
       "         [ 1.18507658e+00,  4.34599850e+00,  5.76000000e+00, ...,\n",
       "          -1.89694376e-04, -1.08995633e-01,  1.99760239e+00],\n",
       "         [ 1.55273898e+00,  5.29675039e+00,  2.61648280e+00, ...,\n",
       "           4.49352647e-02,  7.18314938e-02,  2.00515235e+00]],\n",
       "\n",
       "        [[ 1.42761525e+00,  2.53886933e+00,  1.24636785e+01, ...,\n",
       "           2.17360474e-01, -3.56671245e-01,  1.96118027e+00],\n",
       "         [ 1.36096576e+00,  2.93917522e+00,  1.13099579e+01, ...,\n",
       "           2.15474387e-01,  1.25491905e-01,  1.96950533e+00],\n",
       "         [ 1.36267339e+00,  3.39020600e+00,  9.39860140e+00, ...,\n",
       "           1.61804819e-01, -3.75944056e-01,  1.97894080e+00],\n",
       "         [ 1.51080678e+00,  4.37267985e+00,  5.63916084e+00, ...,\n",
       "          -3.47072505e-02, -1.87428756e-01,  1.99984083e+00],\n",
       "         [ 1.77950372e+00,  5.22844173e+00,  2.61139896e+00, ...,\n",
       "          -2.27401518e-02,  4.16092888e-02,  2.00446187e+00]]],\n",
       "\n",
       "\n",
       "       [[[ 1.50608450e+00,  2.29988317e+00,  1.31121951e+01, ...,\n",
       "          -4.53164680e-02, -4.27804082e-02,  1.95407064e+00],\n",
       "         [ 1.43212067e+00,  2.73010152e+00,  1.16363636e+01, ...,\n",
       "           1.89722143e-02, -2.22459893e-01,  1.96027311e+00],\n",
       "         [ 1.40184740e+00,  3.31014022e+00,  9.42056075e+00, ...,\n",
       "           9.05697947e-02, -3.30346145e-01,  1.97080965e+00],\n",
       "         [ 1.36723474e+00,  4.33764836e+00,  5.76411723e+00, ...,\n",
       "          -1.09073773e-01,  4.90215498e-02,  1.99741418e+00],\n",
       "         [ 1.59300384e+00,  5.21822635e+00,  2.49582173e+00, ...,\n",
       "           1.00534447e-02,  1.84023722e-02,  2.00420675e+00]],\n",
       "\n",
       "        [[ 1.70831114e+00,  2.64801526e+00,  1.26197183e+01, ...,\n",
       "           2.50672977e-01, -3.24101915e-01,  1.96667324e+00],\n",
       "         [ 1.57260234e+00,  3.13053892e+00,  1.07951807e+01, ...,\n",
       "           3.48115520e-01, -7.08385611e-01,  1.97295028e+00],\n",
       "         [ 1.36736681e+00,  3.58766566e+00,  8.91049724e+00, ...,\n",
       "           2.80274667e-01, -7.00944956e-01,  1.98267727e+00],\n",
       "         [ 1.50425637e+00,  4.27165400e+00,  5.61169102e+00, ...,\n",
       "          -1.70319603e-01,  1.55772131e-02,  1.99813159e+00],\n",
       "         [ 1.45035215e+00,  5.20719109e+00,  2.59710145e+00, ...,\n",
       "          -2.80374081e-02,  6.04547050e-02,  2.00610745e+00]],\n",
       "\n",
       "        [[ 1.70243151e+00,  2.31219088e+00,  1.31549755e+01, ...,\n",
       "          -1.11191003e-01,  2.93731511e-01,  1.95762122e+00],\n",
       "         [ 1.65097619e+00,  2.79424566e+00,  1.17039187e+01, ...,\n",
       "          -2.43926987e-02,  4.57056798e-01,  1.96488719e+00],\n",
       "         [ 1.61878486e+00,  3.40807569e+00,  9.27963176e+00, ...,\n",
       "           7.24602763e-02, -4.59498674e-01,  1.97549908e+00],\n",
       "         [ 1.57241171e+00,  4.38278724e+00,  5.62735520e+00, ...,\n",
       "          -1.51915297e-01,  4.61435916e-01,  1.99962880e+00],\n",
       "         [ 1.54732573e+00,  5.20233244e+00,  2.54144343e+00, ...,\n",
       "           7.17210893e-03,  2.40060777e-03,  2.00548757e+00]],\n",
       "\n",
       "        ...,\n",
       "\n",
       "        [[ 1.56494373e+00,  2.36745822e+00,  1.31549755e+01, ...,\n",
       "          -1.02426363e-01,  3.75260792e-01,  1.95492448e+00],\n",
       "         [ 1.51171732e+00,  2.82349173e+00,  1.14382979e+01, ...,\n",
       "          -6.80970058e-02,  2.22720682e-01,  1.96265050e+00],\n",
       "         [ 1.47136873e+00,  3.40082783e+00,  9.30103806e+00, ...,\n",
       "          -5.27458755e-02,  1.47803102e-01,  1.97417967e+00],\n",
       "         [ 1.48314237e+00,  4.32113125e+00,  5.73950178e+00, ...,\n",
       "           1.02389199e-01, -4.52901862e-02,  1.99895040e+00],\n",
       "         [ 1.66632105e+00,  5.23413303e+00,  2.52394366e+00, ...,\n",
       "          -2.49969743e-02, -2.23146266e-02,  2.00344649e+00]],\n",
       "\n",
       "        [[ 1.52654561e+00,  2.28676203e+00,  1.31121951e+01, ...,\n",
       "          -1.30560333e-01,  6.36514326e-02,  1.95630868e+00],\n",
       "         [ 1.46809055e+00,  2.70378912e+00,  1.18414097e+01, ...,\n",
       "          -5.85583782e-02,  3.86864237e-01,  1.96187891e+00],\n",
       "         [ 1.43392155e+00,  3.26236148e+00,  9.68067227e+00, ...,\n",
       "           2.04562999e-03,  0.00000000e+00,  1.97058551e+00],\n",
       "         [ 1.38834000e+00,  4.38686358e+00,  5.68287526e+00, ...,\n",
       "          -1.49057240e-02, -8.12419623e-02,  1.99828670e+00],\n",
       "         [ 1.60464138e+00,  5.22080280e+00,  2.49273570e+00, ...,\n",
       "          -7.25124191e-03,  2.74345721e-02,  2.00269441e+00]],\n",
       "\n",
       "        [[ 1.60833118e+00,  2.53709016e+00,  1.24829721e+01, ...,\n",
       "           6.52419388e-02, -1.96273147e-01,  1.96352984e+00],\n",
       "         [ 1.51417421e+00,  2.88115632e+00,  1.11381215e+01, ...,\n",
       "           7.76820256e-02, -4.81474995e-01,  1.97015865e+00],\n",
       "         [ 1.44421562e+00,  3.31981606e+00,  9.69230769e+00, ...,\n",
       "           6.46586127e-02,  0.00000000e+00,  1.97813020e+00],\n",
       "         [ 1.64726854e+00,  4.41571548e+00,  5.67487685e+00, ...,\n",
       "          -1.35824287e-02, -1.60194124e-02,  2.00091841e+00],\n",
       "         [ 1.57192854e+00,  5.17007241e+00,  2.54947834e+00, ...,\n",
       "          -1.05027340e-01,  3.34097006e-02,  2.00404130e+00]]],\n",
       "\n",
       "\n",
       "       [[[ 1.38719107e+00,  2.55398726e+00,  1.25217391e+01, ...,\n",
       "           7.60561527e-02, -3.39504889e-01,  1.95431560e+00],\n",
       "         [ 1.26491548e+00,  2.96690869e+00,  1.11689751e+01, ...,\n",
       "           1.02704833e-01, -4.66021213e-02,  1.96188804e+00],\n",
       "         [ 1.20850534e+00,  3.41167484e+00,  9.38766007e+00, ...,\n",
       "           9.61734851e-02, -3.29006778e-02,  1.97230141e+00],\n",
       "         [ 1.20590107e+00,  4.30979751e+00,  5.88183807e+00, ...,\n",
       "          -6.39898224e-02,  1.54565347e-01,  1.99668678e+00],\n",
       "         [ 1.65877443e+00,  5.17657471e+00,  2.51449953e+00, ...,\n",
       "          -5.38573547e-02, -3.98241928e-02,  2.00080976e+00]],\n",
       "\n",
       "        [[ 6.51319392e-01,  2.54813703e+00,  1.25023256e+01, ...,\n",
       "           1.10344371e-01, -2.37010911e-01,  1.95907615e+00],\n",
       "         [ 5.28233027e-01,  2.98240608e+00,  1.07376831e+01, ...,\n",
       "           1.05106360e-01, -7.33156171e-01,  1.96697733e+00],\n",
       "         [ 5.97874187e-01,  3.44253823e+00,  8.96996663e+00, ...,\n",
       "           5.82832350e-02, -3.85021769e-01,  1.97756423e+00],\n",
       "         [ 1.09917811e+00,  4.28653694e+00,  5.82238267e+00, ...,\n",
       "          -9.79087493e-02,  7.05995046e-02,  1.99708338e+00],\n",
       "         [ 1.69297783e+00,  5.15283832e+00,  2.59376005e+00, ...,\n",
       "          -7.80515761e-02, -5.01532720e-03,  2.00566807e+00]],\n",
       "\n",
       "        [[ 9.22722114e-01,  2.50051505e+00,  1.25412131e+01, ...,\n",
       "          -6.41598787e-03,  7.75345475e-02,  1.95678446e+00],\n",
       "         [ 7.67390229e-01,  2.91187175e+00,  1.11227586e+01, ...,\n",
       "          -2.60710616e-02, -2.19013531e-01,  1.96453624e+00],\n",
       "         [ 7.48970979e-01,  3.37930157e+00,  9.26896552e+00, ...,\n",
       "          -4.60403631e-02, -2.40468445e-01,  1.97476465e+00],\n",
       "         [ 1.14614340e+00,  4.33117119e+00,  5.79726815e+00, ...,\n",
       "          -1.48338461e-01,  3.26440473e-01,  1.99739776e+00],\n",
       "         [ 1.29663506e+00,  5.19653465e+00,  2.52078775e+00, ...,\n",
       "           3.50116044e-02, -7.13048286e-02,  2.00420891e+00]],\n",
       "\n",
       "        ...,\n",
       "\n",
       "        [[ 1.32436334e+00,  2.42499604e+00,  1.26000000e+01, ...,\n",
       "          -1.65419475e-02, -1.79714739e-01,  1.95269905e+00],\n",
       "         [ 1.21957089e+00,  2.84840016e+00,  1.11689751e+01, ...,\n",
       "          -6.16785183e-04, -7.78868554e-02,  1.96114481e+00],\n",
       "         [ 1.15951153e+00,  3.36798978e+00,  9.44262295e+00, ...,\n",
       "          -4.97036672e-02, -2.21657816e-02,  1.97272305e+00],\n",
       "         [ 1.46386361e+00,  4.35080241e+00,  5.69491525e+00, ...,\n",
       "           1.45925975e-01, -1.20911152e-02,  2.00034335e+00],\n",
       "         [ 1.78828812e+00,  5.23936369e+00,  2.58627325e+00, ...,\n",
       "          -7.59170957e-03, -2.34354858e-02,  2.00577543e+00]],\n",
       "\n",
       "        [[ 1.33691037e+00,  2.53592259e+00,  1.28817891e+01, ...,\n",
       "           3.15974175e-01, -1.45674514e-01,  1.95068265e+00],\n",
       "         [ 1.24535123e+00,  2.91037870e+00,  1.10617284e+01, ...,\n",
       "           3.36580580e-01, -5.91450796e-01,  1.95669738e+00],\n",
       "         [ 1.18194328e+00,  3.34163199e+00,  9.53191489e+00, ...,\n",
       "           2.34914804e-01, -2.07215541e-01,  1.96684599e+00],\n",
       "         [ 1.26474506e+00,  4.37948372e+00,  5.63916084e+00, ...,\n",
       "          -4.36872222e-02, -5.57544151e-02,  1.99697022e+00],\n",
       "         [ 1.63431818e+00,  5.25315383e+00,  2.56488550e+00, ...,\n",
       "          -6.66256462e-03,  1.62129298e-02,  2.00337726e+00]],\n",
       "\n",
       "        [[ 1.44590103e+00,  2.45473572e+00,  1.27393365e+01, ...,\n",
       "           2.97277112e-01, -4.15639037e-01,  1.96298777e+00],\n",
       "         [ 1.35078940e+00,  2.92322920e+00,  1.11227586e+01, ...,\n",
       "           4.17312573e-01, -7.71046689e-01,  1.96985300e+00],\n",
       "         [ 1.31467618e+00,  3.40669578e+00,  9.49823322e+00, ...,\n",
       "           3.80533372e-01, -2.17429435e-01,  1.97850789e+00],\n",
       "         [ 1.48047182e+00,  4.43088201e+00,  5.61169102e+00, ...,\n",
       "          -6.96188279e-02,  3.90242769e-03,  2.00127668e+00],\n",
       "         [ 1.57571332e+00,  5.18735515e+00,  2.57389084e+00, ...,\n",
       "          -2.22173895e-02,  2.19921053e-02,  2.00332265e+00]]],\n",
       "\n",
       "\n",
       "       ...,\n",
       "\n",
       "\n",
       "       [[[ 1.62105491e+00,  2.38660184e+00,  1.27594937e+01, ...,\n",
       "          -6.51513419e-03, -2.89050018e-01,  1.95397556e+00],\n",
       "         [ 1.61445414e+00,  2.83956717e+00,  1.14708393e+01, ...,\n",
       "           4.74632664e-02, -3.35895732e-01,  1.96206065e+00],\n",
       "         [ 1.59352009e+00,  3.38125252e+00,  9.24770642e+00, ...,\n",
       "           8.31348177e-02, -5.03200470e-01,  1.97352073e+00],\n",
       "         [ 1.49591324e+00,  4.28606122e+00,  5.92070485e+00, ...,\n",
       "          -3.05954411e-02, -1.74394841e-02,  1.99712821e+00],\n",
       "         [ 1.58911721e+00,  5.13717018e+00,  2.57718121e+00, ...,\n",
       "          -1.00671934e-01,  2.77028647e-02,  2.00178733e+00]],\n",
       "\n",
       "        [[ 1.66990966e+00,  2.44588034e+00,  1.28000000e+01, ...,\n",
       "           1.96189256e-02, -1.23076923e-01,  1.96107872e+00],\n",
       "         [ 1.58325728e+00,  3.01674706e+00,  1.09863760e+01, ...,\n",
       "           1.45140006e-01, -3.71370457e-01,  1.97109387e+00],\n",
       "         [ 1.39618541e+00,  3.50888452e+00,  9.05050505e+00, ...,\n",
       "           9.71126394e-02, -3.92117900e-01,  1.98261043e+00],\n",
       "         [ 1.44419685e+00,  4.25626211e+00,  5.76824034e+00, ...,\n",
       "          -2.25751556e-02, -1.00755290e-01,  2.00206042e+00],\n",
       "         [ 1.63039633e+00,  5.17297144e+00,  2.60045147e+00, ...,\n",
       "          -3.96845225e-02, -1.43345249e-02,  2.00566132e+00]],\n",
       "\n",
       "        [[ 1.65716520e+00,  2.37028194e+00,  1.27192429e+01, ...,\n",
       "          -1.12484938e-01,  5.99022429e-02,  1.95601091e+00],\n",
       "         [ 1.68146734e+00,  2.84141087e+00,  1.13737659e+01, ...,\n",
       "          -7.30317688e-02,  2.81606308e-01,  1.96485999e+00],\n",
       "         [ 1.70361731e+00,  3.39977665e+00,  9.47591069e+00, ...,\n",
       "          -1.20288693e-02,  1.64132402e-01,  1.97726428e+00],\n",
       "         [ 1.66215271e+00,  4.34467939e+00,  5.78479197e+00, ...,\n",
       "          -5.98933919e-02,  2.38712186e-01,  1.99909647e+00],\n",
       "         [ 1.67988064e+00,  5.19875902e+00,  2.61393841e+00, ...,\n",
       "           3.64043234e-02,  5.55627772e-02,  2.00610123e+00]],\n",
       "\n",
       "        ...,\n",
       "\n",
       "        [[ 1.51906711e+00,  2.31447137e+00,  1.31549755e+01, ...,\n",
       "          -1.82957975e-01,  3.54975530e-01,  1.95902493e+00],\n",
       "         [ 1.49648532e+00,  2.75239728e+00,  1.16531792e+01, ...,\n",
       "          -2.23576439e-01,  4.21981419e-01,  1.96548007e+00],\n",
       "         [ 1.52457124e+00,  3.32729425e+00,  9.68067227e+00, ...,\n",
       "          -1.62404013e-01,  5.27437309e-01,  1.97480930e+00],\n",
       "         [ 1.50100946e+00,  4.34781198e+00,  5.72320795e+00, ...,\n",
       "           1.57033204e-01, -1.62923438e-01,  1.99640211e+00],\n",
       "         [ 1.63340391e+00,  5.22452810e+00,  2.58627325e+00, ...,\n",
       "          -1.20370041e-02, -8.30415443e-02,  2.00631903e+00]],\n",
       "\n",
       "        [[ 1.63161618e+00,  2.35243814e+00,  1.27797147e+01, ...,\n",
       "           2.78666742e-02, -3.96755850e-01,  1.95584372e+00],\n",
       "         [ 1.63771417e+00,  2.77558116e+00,  1.18588235e+01, ...,\n",
       "           7.11352556e-02,  3.38823529e-01,  1.96279801e+00],\n",
       "         [ 1.63295736e+00,  3.31084649e+00,  9.62291169e+00, ...,\n",
       "           1.00811759e-01, -1.27995198e-01,  1.97213925e+00],\n",
       "         [ 1.49334883e+00,  4.35060881e+00,  5.77650430e+00, ...,\n",
       "          -4.27110199e-02, -6.69739629e-02,  1.99708303e+00],\n",
       "         [ 1.43927357e+00,  5.25772748e+00,  2.58710298e+00, ...,\n",
       "          -3.36100054e-02,  6.71029836e-02,  2.00493036e+00]],\n",
       "\n",
       "        [[ 1.58408362e+00,  2.53698614e+00,  1.28407643e+01, ...,\n",
       "           2.56648635e-01, -2.92786157e-01,  1.96365529e+00],\n",
       "         [ 1.62490502e+00,  2.92979014e+00,  1.15200000e+01, ...,\n",
       "           2.94777194e-01, -1.33179191e-01,  1.96920141e+00],\n",
       "         [ 1.55556220e+00,  3.38463168e+00,  9.40956826e+00, ...,\n",
       "           2.63045473e-01, -3.76839506e-01,  1.97695957e+00],\n",
       "         [ 1.53764066e+00,  4.40296576e+00,  5.65101612e+00, ...,\n",
       "          -6.21757742e-02, -9.25736259e-02,  1.99761176e+00],\n",
       "         [ 1.71497125e+00,  5.21026383e+00,  2.60129032e+00, ...,\n",
       "          -4.21198634e-02,  1.00825206e-01,  2.00584743e+00]]],\n",
       "\n",
       "\n",
       "       [[[ 1.25954605e+00,  2.47203597e+00,  1.24444444e+01, ...,\n",
       "           4.55367881e-02, -5.20185781e-01,  1.95342967e+00],\n",
       "         [ 1.25502638e+00,  2.95324907e+00,  1.10465753e+01, ...,\n",
       "           4.87684791e-02, -3.11171136e-01,  1.96270165e+00],\n",
       "         [ 1.29073495e+00,  3.43476558e+00,  9.22654462e+00, ...,\n",
       "           2.70830632e-04, -1.28443777e-01,  1.97419082e+00],\n",
       "         [ 1.45430853e+00,  4.29348092e+00,  5.91636097e+00, ...,\n",
       "           1.33660238e-02,  9.39782970e-02,  1.99952125e+00],\n",
       "         [ 1.66058712e+00,  5.19479774e+00,  2.49427776e+00, ...,\n",
       "           5.75902724e-03,  2.74683388e-02,  2.00220210e+00]],\n",
       "\n",
       "        [[ 1.04875776e+00,  2.49420661e+00,  1.23680982e+01, ...,\n",
       "           1.79841056e-05, -2.31901840e-01,  1.96098773e+00],\n",
       "         [ 1.01889377e+00,  3.02803189e+00,  1.08387097e+01, ...,\n",
       "           2.92923265e-03, -1.02945682e-01,  1.97055700e+00],\n",
       "         [ 1.07027416e+00,  3.48904089e+00,  8.96000000e+00, ...,\n",
       "          -3.48226219e-02,  2.97674419e-02,  1.98042764e+00],\n",
       "         [ 1.53518663e+00,  4.20630839e+00,  5.70297030e+00, ...,\n",
       "          -5.69773004e-02,  4.40229286e-02,  1.99804792e+00],\n",
       "         [ 1.75298232e+00,  5.20852143e+00,  2.62329213e+00, ...,\n",
       "          -9.95101465e-03,  8.50485015e-02,  2.00496920e+00]],\n",
       "\n",
       "        [[ 1.27298838e+00,  2.47682237e+00,  1.26394984e+01, ...,\n",
       "          -7.63325503e-02,  7.87507691e-02,  1.95925678e+00],\n",
       "         [ 1.21775550e+00,  2.98557390e+00,  1.10769231e+01, ...,\n",
       "          -3.94887046e-02,  1.94331984e-01,  1.96936054e+00],\n",
       "         [ 1.27137142e+00,  3.47767946e+00,  9.35498840e+00, ...,\n",
       "          -3.97147429e-02,  9.66646333e-02,  1.97999336e+00],\n",
       "         [ 1.74495099e+00,  4.33671689e+00,  5.68287526e+00, ...,\n",
       "          -1.17836121e-01,  3.38938883e-01,  1.99929713e+00],\n",
       "         [ 1.69524129e+00,  5.20355194e+00,  2.55675333e+00, ...,\n",
       "           2.80638227e-02,  5.66190234e-03,  2.00266679e+00]],\n",
       "\n",
       "        ...,\n",
       "\n",
       "        [[ 1.32845542e+00,  2.33827333e+00,  1.30485437e+01, ...,\n",
       "          -1.37789811e-01,  1.25466766e-01,  1.95424838e+00],\n",
       "         [ 1.27256352e+00,  2.84565671e+00,  1.12311978e+01, ...,\n",
       "          -1.27933070e-01,  4.93514682e-01,  1.96285812e+00],\n",
       "         [ 1.29586583e+00,  3.43231356e+00,  9.38766007e+00, ...,\n",
       "          -8.52597203e-02,  4.07704613e-01,  1.97555673e+00],\n",
       "         [ 1.63943716e+00,  4.33552928e+00,  5.76411723e+00, ...,\n",
       "           1.62844234e-01, -4.98697958e-02,  2.00024048e+00],\n",
       "         [ 1.73368761e+00,  5.20787337e+00,  2.50980392e+00, ...,\n",
       "          -5.19983981e-02, -3.16395074e-02,  2.00331077e+00]],\n",
       "\n",
       "        [[ 1.52733339e+00,  2.39095994e+00,  1.30909091e+01, ...,\n",
       "           2.86186848e-02, -1.72248804e-01,  1.95476281e+00],\n",
       "         [ 1.48386272e+00,  2.83260866e+00,  1.13898305e+01, ...,\n",
       "          -3.54870198e-03,  1.11508830e-01,  1.96165500e+00],\n",
       "         [ 1.39426716e+00,  3.36241096e+00,  9.53191489e+00, ...,\n",
       "          -3.26232178e-02,  3.99412062e-01,  1.97272715e+00],\n",
       "         [ 1.42831768e+00,  4.39969848e+00,  5.75588865e+00, ...,\n",
       "           8.49168511e-02, -1.95402862e-01,  2.00039872e+00],\n",
       "         [ 1.78531831e+00,  5.20856822e+00,  2.48046755e+00, ...,\n",
       "          -2.92749946e-02,  9.12216077e-03,  2.00281001e+00]],\n",
       "\n",
       "        [[ 1.78067113e+00,  2.51882265e+00,  1.24444444e+01, ...,\n",
       "           1.47442009e-01, -2.34800839e-01,  1.96906999e+00],\n",
       "         [ 1.67108874e+00,  2.94379704e+00,  1.13577465e+01, ...,\n",
       "           1.51838066e-01,  2.04219508e-01,  1.97381357e+00],\n",
       "         [ 1.52641207e+00,  3.41279547e+00,  9.39860140e+00, ...,\n",
       "           1.06354520e-01, -1.09668628e-02,  1.98009187e+00],\n",
       "         [ 1.40076343e+00,  4.43495276e+00,  5.53846154e+00, ...,\n",
       "           3.95160818e-02, -1.84746410e-01,  2.00167830e+00],\n",
       "         [ 1.58291043e+00,  5.21198791e+00,  2.57389084e+00, ...,\n",
       "          -6.63024061e-02,  5.93913072e-02,  2.00334480e+00]]],\n",
       "\n",
       "\n",
       "       [[[ 1.24737424e+00,  2.37574910e+00,  1.29646302e+01, ...,\n",
       "           2.70407097e-02, -8.39134642e-02,  1.95951138e+00],\n",
       "         [ 1.17246286e+00,  2.84897116e+00,  1.10465753e+01, ...,\n",
       "           1.14873421e-01, -3.75520975e-01,  1.96782089e+00],\n",
       "         [ 1.14965903e+00,  3.40883829e+00,  8.94013304e+00, ...,\n",
       "           1.58771292e-01, -5.69300925e-01,  1.97894628e+00],\n",
       "         [ 1.22808638e+00,  4.15980393e+00,  6.04044944e+00, ...,\n",
       "          -2.27684229e-01,  1.50018467e-01,  1.99746626e+00],\n",
       "         [ 1.41673491e+00,  5.21496758e+00,  2.53584906e+00, ...,\n",
       "          -3.71816234e-02,  8.74156679e-03,  2.00643339e+00]],\n",
       "\n",
       "        [[ 1.63319672e+00,  2.52209958e+00,  1.24061538e+01, ...,\n",
       "           1.65717803e-01, -8.57004049e-01,  1.96276137e+00],\n",
       "         [ 1.56572436e+00,  3.09656873e+00,  1.08096515e+01, ...,\n",
       "           3.07491307e-01, -5.16191222e-01,  1.97115640e+00],\n",
       "         [ 1.45795982e+00,  3.52587044e+00,  9.06067416e+00, ...,\n",
       "           1.79114759e-01, -4.04114575e-01,  1.98000845e+00],\n",
       "         [ 1.52473298e+00,  4.10720026e+00,  5.92505511e+00, ...,\n",
       "          -2.48373157e-01,  1.11068084e-01,  1.99652747e+00],\n",
       "         [ 1.72222790e+00,  5.23118353e+00,  2.60129032e+00, ...,\n",
       "           6.18966602e-03,  1.08630820e-02,  2.00727298e+00]],\n",
       "\n",
       "        [[ 1.19796378e+00,  2.37084079e+00,  1.31764706e+01, ...,\n",
       "          -7.10447930e-03,  6.15722925e-01,  1.96037917e+00],\n",
       "         [ 1.12786793e+00,  2.85554504e+00,  1.14220963e+01, ...,\n",
       "           1.76022952e-02,  1.12138393e-01,  1.96720906e+00],\n",
       "         [ 1.13444653e+00,  3.42813844e+00,  9.26896552e+00, ...,\n",
       "           1.79405133e-02, -1.62613430e-01,  1.97839940e+00],\n",
       "         [ 1.35463083e+00,  4.21987712e+00,  5.93377483e+00, ...,\n",
       "          -1.24360781e-01,  2.54901595e-01,  1.99982592e+00],\n",
       "         [ 1.70059721e+00,  5.21332658e+00,  2.56570156e+00, ...,\n",
       "           8.33907810e-02, -6.27208660e-02,  2.00892262e+00]],\n",
       "\n",
       "        ...,\n",
       "\n",
       "        [[ 1.10342672e+00,  2.26814889e+00,  1.31764706e+01, ...,\n",
       "          -1.29812222e-01,  4.16976917e-01,  1.95638810e+00],\n",
       "         [ 1.01264948e+00,  2.71803980e+00,  1.14545455e+01, ...,\n",
       "          -1.14164371e-01,  1.28702758e-01,  1.96436692e+00],\n",
       "         [ 9.97015715e-01,  3.32673290e+00,  9.35498840e+00, ...,\n",
       "          -8.79246723e-02,  2.22485568e-01,  1.97750258e+00],\n",
       "         [ 1.30353568e+00,  4.34113064e+00,  5.84771574e+00, ...,\n",
       "           1.08415417e-01,  5.46122878e-02,  2.00278654e+00],\n",
       "         [ 1.59451633e+00,  5.21379669e+00,  2.54947834e+00, ...,\n",
       "          -5.34984971e-02, -9.61909480e-02,  2.00643319e+00]],\n",
       "\n",
       "        [[ 1.43110618e+00,  2.32331159e+00,  1.31764706e+01, ...,\n",
       "           1.20037212e-01, -2.63529412e-01,  1.96008677e+00],\n",
       "         [ 1.28896547e+00,  2.74804819e+00,  1.15862069e+01, ...,\n",
       "           2.07203111e-01, -4.13793103e-01,  1.96693429e+00],\n",
       "         [ 1.21728784e+00,  3.31196567e+00,  9.48705882e+00, ...,\n",
       "           2.70019118e-01, -3.59095023e-01,  1.97811857e+00],\n",
       "         [ 1.26607169e+00,  4.33036811e+00,  5.83924692e+00, ...,\n",
       "          -1.24484145e-01,  9.97451432e-02,  2.00227574e+00],\n",
       "         [ 1.57965331e+00,  5.22343609e+00,  2.59626529e+00, ...,\n",
       "          -4.28214333e-02,  8.95820477e-02,  2.00716536e+00]],\n",
       "\n",
       "        [[ 1.41666321e+00,  2.54733843e+00,  1.25803432e+01, ...,\n",
       "           3.30311885e-01, -5.74632316e-01,  1.96356645e+00],\n",
       "         [ 1.40493109e+00,  2.93836792e+00,  1.09863760e+01, ...,\n",
       "           3.97987525e-01, -7.51615245e-01,  1.97077222e+00],\n",
       "         [ 1.42537791e+00,  3.37586036e+00,  9.47591069e+00, ...,\n",
       "           3.61262965e-01, -4.67369208e-01,  1.97988294e+00],\n",
       "         [ 1.56373378e+00,  4.43455566e+00,  5.55754652e+00, ...,\n",
       "          -4.85511763e-02, -1.21326720e-01,  2.00288060e+00],\n",
       "         [ 1.64468939e+00,  5.19824605e+00,  2.57882955e+00, ...,\n",
       "          -3.97384398e-02,  4.21828048e-02,  2.00447650e+00]]]])"
      ]
     },
     "execution_count": 17,
     "metadata": {},
     "output_type": "execute_result"
    }
   ],
   "source": [
    "Features"
   ]
  },
  {
   "cell_type": "code",
   "execution_count": 19,
   "metadata": {},
   "outputs": [
    {
     "data": {
      "text/plain": [
       "array([[1, 0, 0],\n",
       "       [1, 1, 0],\n",
       "       [1, 0, 0],\n",
       "       [1, 1, 0],\n",
       "       [1, 1, 1],\n",
       "       [1, 1, 0],\n",
       "       [1, 1, 1],\n",
       "       [1, 1, 1],\n",
       "       [1, 0, 1],\n",
       "       [1, 1, 1],\n",
       "       [1, 1, 0],\n",
       "       [1, 0, 0],\n",
       "       [1, 0, 0],\n",
       "       [1, 1, 0],\n",
       "       [1, 0, 0],\n",
       "       [0, 1, 0],\n",
       "       [1, 0, 0],\n",
       "       [1, 0, 1],\n",
       "       [1, 1, 1],\n",
       "       [1, 1, 0],\n",
       "       [0, 1, 1],\n",
       "       [0, 0, 0],\n",
       "       [0, 0, 1],\n",
       "       [0, 1, 0],\n",
       "       [0, 0, 0],\n",
       "       [0, 0, 0],\n",
       "       [1, 0, 0],\n",
       "       [0, 0, 0],\n",
       "       [1, 0, 0],\n",
       "       [0, 1, 1],\n",
       "       [1, 1, 1],\n",
       "       [0, 1, 1],\n",
       "       [0, 1, 1],\n",
       "       [0, 1, 1],\n",
       "       [1, 1, 1],\n",
       "       [1, 1, 1],\n",
       "       [1, 1, 1],\n",
       "       [1, 1, 1],\n",
       "       [1, 1, 1],\n",
       "       [1, 1, 1]])"
      ]
     },
     "execution_count": 19,
     "metadata": {},
     "output_type": "execute_result"
    }
   ],
   "source": [
    "pickled['labels']"
   ]
  },
  {
   "cell_type": "code",
   "execution_count": null,
   "metadata": {},
   "outputs": [],
   "source": []
  }
 ],
 "metadata": {
  "kernelspec": {
   "display_name": "Python 3 (ipykernel)",
   "language": "python",
   "name": "python3"
  },
  "language_info": {
   "codemirror_mode": {
    "name": "ipython",
    "version": 3
   },
   "file_extension": ".py",
   "mimetype": "text/x-python",
   "name": "python",
   "nbconvert_exporter": "python",
   "pygments_lexer": "ipython3",
   "version": "3.10.9"
  }
 },
 "nbformat": 4,
 "nbformat_minor": 4
}
